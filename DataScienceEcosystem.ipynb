{
 "cells": [
  {
   "cell_type": "markdown",
   "id": "88c7fbae-d8fc-4a99-aa56-bb3a6a2d4579",
   "metadata": {},
   "source": [
    "# Data Science Tools and Ecosystem"
   ]
  },
  {
   "cell_type": "markdown",
   "id": "3a49cd50-9da8-4d21-b569-f209c7492527",
   "metadata": {},
   "source": [
    "**Objectives:**\r\n",
    "\r\n",
    "- List popular languages for Data Science\r\n",
    "- Explain key libraries used in Data Science\r\n",
    "- Demonstrate basic data manipulation techniques\r\n"
   ]
  },
  {
   "cell_type": "markdown",
   "id": "07f9cf83-3a00-4551-994c-9a27a2aa2d38",
   "metadata": {},
   "source": [
    "In this notebook, Data Science Tools and Ecosystem are summarized."
   ]
  },
  {
   "cell_type": "markdown",
   "id": "53342fab-8845-4f2c-969c-ad2707404bf9",
   "metadata": {},
   "source": [
    "Some of the popular languages that Data Scientists use are:\n",
    "1. Python\n",
    "2. R\n",
    "3. SQL"
   ]
  },
  {
   "cell_type": "markdown",
   "id": "2b05a797-5487-404f-9cb4-ac4d63d6b72a",
   "metadata": {},
   "source": [
    "Some of the commonly used libraries used by Data Scientists include:\n",
    "1. NumPy\n",
    "2. Pandas\n",
    "3. Seaborn"
   ]
  },
  {
   "cell_type": "markdown",
   "id": "0486138f-9ca0-4ccc-9a3b-0df634f6a5b2",
   "metadata": {},
   "source": [
    "| Data Science Tools     |\r\n",
    "|------------------------|\r\n",
    "| Jupyter Notebook       |\r\n",
    "| RStudio                |\r\n",
    "| VS Code with Python ext|\r\n"
   ]
  },
  {
   "cell_type": "markdown",
   "id": "7dd5e5ea-b620-4e23-9e08-a6ee1ccceaa2",
   "metadata": {},
   "source": [
    "### Below are a few examples of evaluating arithmetic expressions in Python"
   ]
  },
  {
   "cell_type": "code",
   "execution_count": 1,
   "id": "c117c4e9-cadd-44d7-9c4e-f9258971a288",
   "metadata": {},
   "outputs": [
    {
     "data": {
      "text/plain": [
       "17"
      ]
     },
     "execution_count": 1,
     "metadata": {},
     "output_type": "execute_result"
    }
   ],
   "source": [
    "# This a simple arithmetic expression to mutiply then add integers\n",
    "(3*4)+5"
   ]
  },
  {
   "cell_type": "code",
   "execution_count": 9,
   "id": "28790a8f-e08f-4e8c-a2ba-67b97bf13411",
   "metadata": {},
   "outputs": [
    {
     "data": {
      "text/plain": [
       "3.3333333333333335"
      ]
     },
     "execution_count": 9,
     "metadata": {},
     "output_type": "execute_result"
    }
   ],
   "source": [
    "# Convert 200 minutes to hours\n",
    "minutes = 200\n",
    "hours = minutes / 60\n",
    "hours  # This will display the result directly in Jupyter Notebook\n"
   ]
  },
  {
   "cell_type": "markdown",
   "id": "59685700-bb99-4ab1-a3de-c4de89b105b6",
   "metadata": {},
   "source": [
    "## Author\n",
    "Rogelio Gomez"
   ]
  }
 ],
 "metadata": {
  "kernelspec": {
   "display_name": "Python 3 (ipykernel)",
   "language": "python",
   "name": "python3"
  },
  "language_info": {
   "codemirror_mode": {
    "name": "ipython",
    "version": 3
   },
   "file_extension": ".py",
   "mimetype": "text/x-python",
   "name": "python",
   "nbconvert_exporter": "python",
   "pygments_lexer": "ipython3",
   "version": "3.12.4"
  }
 },
 "nbformat": 4,
 "nbformat_minor": 5
}
